{
 "cells": [
  {
   "cell_type": "code",
   "execution_count": 26,
   "id": "62a9bc38-d493-4fa9-bef9-ec87f98722be",
   "metadata": {},
   "outputs": [],
   "source": [
    "import os\n",
    "import numpy as np\n",
    "import matplotlib.pyplot as plt\n",
    "import pandas as pd\n",
    "import tensorflow as tf\n",
    "import seaborn as sns\n",
    "from tensorflow.keras import layers, models\n",
    "from sklearn.model_selection import train_test_split\n",
    "from sklearn.metrics import accuracy_score, classification_report, confusion_matrix\n",
    "from tensorflow.keras.preprocessing.image import ImageDataGenerator\n",
    "from tensorflow.keras.callbacks import EarlyStopping, LearningRateScheduler"
   ]
  },
  {
   "cell_type": "code",
   "execution_count": 27,
   "id": "4ee6b9a1-5154-4e65-902c-eca3a4ec41bb",
   "metadata": {},
   "outputs": [],
   "source": [
    "# Setting up the input directory\n",
    "input_dir = 'Industrial-Equipment/'\n",
    "\n",
    "# Function to load images and labels\n",
    "def load_images_and_labels(input_dir):\n",
    "    images = []\n",
    "    labels = []\n",
    "\n",
    "    for class_label, class_name in enumerate(os.listdir(input_dir)):\n",
    "        class_path = os.path.join(input_dir, class_name)\n",
    "\n",
    "        for filename in os.listdir(class_path):\n",
    "            image_path = os.path.join(class_path, filename)\n",
    "\n",
    "            # Read and preprocess the image\n",
    "            image = tf.keras.preprocessing.image.load_img(image_path, target_size=(64, 64))\n",
    "            image = tf.keras.preprocessing.image.img_to_array(image)\n",
    "            image /= 255.0  # Normalize pixel values\n",
    "\n",
    "            images.append(image)\n",
    "            labels.append(class_label)\n",
    "\n",
    "    return np.array(images), np.array(labels)"
   ]
  },
  {
   "cell_type": "code",
   "execution_count": 28,
   "id": "384ce52d-d86d-47b0-9b92-0871e64b57d3",
   "metadata": {},
   "outputs": [],
   "source": [
    "# Load images and labels\n",
    "X, y = load_images_and_labels(input_dir)\n",
    "\n",
    "# Split the data into training and testing sets\n",
    "X_train, X_test, y_train, y_test = train_test_split(X, y, test_size=0.2, random_state=42)"
   ]
  },
  {
   "cell_type": "code",
   "execution_count": 29,
   "id": "7ede44bf-d9d4-4004-b223-bde50394b071",
   "metadata": {},
   "outputs": [
    {
     "name": "stdout",
     "output_type": "stream",
     "text": [
      "Model: \"sequential_1\"\n",
      "_________________________________________________________________\n",
      " Layer (type)                Output Shape              Param #   \n",
      "=================================================================\n",
      " conv2d_4 (Conv2D)           (None, 62, 62, 32)        896       \n",
      "                                                                 \n",
      " max_pooling2d_4 (MaxPoolin  (None, 31, 31, 32)        0         \n",
      " g2D)                                                            \n",
      "                                                                 \n",
      " conv2d_5 (Conv2D)           (None, 29, 29, 64)        18496     \n",
      "                                                                 \n",
      " max_pooling2d_5 (MaxPoolin  (None, 14, 14, 64)        0         \n",
      " g2D)                                                            \n",
      "                                                                 \n",
      " conv2d_6 (Conv2D)           (None, 12, 12, 128)       73856     \n",
      "                                                                 \n",
      " max_pooling2d_6 (MaxPoolin  (None, 6, 6, 128)         0         \n",
      " g2D)                                                            \n",
      "                                                                 \n",
      " conv2d_7 (Conv2D)           (None, 4, 4, 256)         295168    \n",
      "                                                                 \n",
      " max_pooling2d_7 (MaxPoolin  (None, 2, 2, 256)         0         \n",
      " g2D)                                                            \n",
      "                                                                 \n",
      " flatten_1 (Flatten)         (None, 1024)              0         \n",
      "                                                                 \n",
      " dense_3 (Dense)             (None, 256)               262400    \n",
      "                                                                 \n",
      " dense_4 (Dense)             (None, 128)               32896     \n",
      "                                                                 \n",
      " dense_5 (Dense)             (None, 2)                 258       \n",
      "                                                                 \n",
      "=================================================================\n",
      "Total params: 683970 (2.61 MB)\n",
      "Trainable params: 683970 (2.61 MB)\n",
      "Non-trainable params: 0 (0.00 Byte)\n",
      "_________________________________________________________________\n"
     ]
    }
   ],
   "source": [
    "# Define the CNN architecture\n",
    "model = models.Sequential()\n",
    "\n",
    "# Adding layers to the model\n",
    "model.add(layers.Conv2D(32, (3, 3), activation='relu', input_shape=(64, 64, 3)))\n",
    "model.add(layers.MaxPooling2D((2, 2)))\n",
    "model.add(layers.Conv2D(64, (3, 3), activation='relu'))\n",
    "model.add(layers.MaxPooling2D((2, 2)))\n",
    "model.add(layers.Conv2D(128, (3, 3), activation='relu'))\n",
    "model.add(layers.MaxPooling2D((2, 2)))\n",
    "model.add(layers.Conv2D(256, (3, 3), activation='relu'))\n",
    "model.add(layers.MaxPooling2D((2, 2)))\n",
    "model.add(layers.Flatten())\n",
    "model.add(layers.Dense(256, activation='relu'))\n",
    "model.add(layers.Dense(128, activation='relu'))\n",
    "model.add(layers.Dense(2, activation='softmax'))  \n",
    "\n",
    "# Display the model summary\n",
    "model.summary()"
   ]
  },
  {
   "cell_type": "code",
   "execution_count": 30,
   "id": "78ca7703-bf61-46fa-a01d-03bd09140d74",
   "metadata": {},
   "outputs": [],
   "source": [
    "# Data augmentation\n",
    "train_datagen = ImageDataGenerator(\n",
    "    rotation_range=20,\n",
    "    width_shift_range=0.2,\n",
    "    height_shift_range=0.2,\n",
    "    shear_range=0.2,\n",
    "    zoom_range=0.2,\n",
    "    horizontal_flip=True,\n",
    "    fill_mode='nearest'\n",
    ")\n",
    "\n",
    "# Early stopping\n",
    "early_stopping = EarlyStopping(patience=5, restore_best_weights=True)\n",
    "\n",
    "# Learning rate scheduler\n",
    "def lr_scheduler(epoch, lr):\n",
    "    if epoch % 5 == 0:\n",
    "        return lr * 0.5\n",
    "    else:\n",
    "        return lr\n",
    "\n",
    "lr_scheduler_callback = LearningRateScheduler(lr_scheduler)"
   ]
  },
  {
   "cell_type": "code",
   "execution_count": 31,
   "id": "f1db8019-b468-4d21-bf07-a5fbfc3c5458",
   "metadata": {},
   "outputs": [
    {
     "name": "stdout",
     "output_type": "stream",
     "text": [
      "Epoch 1/10\n",
      "110/110 [==============================] - 8s 64ms/step - loss: 0.5317 - accuracy: 0.6974 - val_loss: 0.4204 - val_accuracy: 0.7355\n",
      "Epoch 2/10\n",
      "110/110 [==============================] - 7s 64ms/step - loss: 0.3582 - accuracy: 0.8162 - val_loss: 0.2619 - val_accuracy: 0.8978\n",
      "Epoch 3/10\n",
      "110/110 [==============================] - 7s 64ms/step - loss: 0.2368 - accuracy: 0.9014 - val_loss: 0.1751 - val_accuracy: 0.9387\n",
      "Epoch 4/10\n",
      "110/110 [==============================] - 7s 61ms/step - loss: 0.1773 - accuracy: 0.9256 - val_loss: 0.4360 - val_accuracy: 0.8320\n",
      "Epoch 5/10\n",
      "110/110 [==============================] - 7s 60ms/step - loss: 0.1631 - accuracy: 0.9295 - val_loss: 0.2671 - val_accuracy: 0.8967\n",
      "Epoch 6/10\n",
      "110/110 [==============================] - 7s 60ms/step - loss: 0.1595 - accuracy: 0.9338 - val_loss: 0.1237 - val_accuracy: 0.9478\n",
      "Epoch 7/10\n",
      "110/110 [==============================] - 7s 60ms/step - loss: 0.1364 - accuracy: 0.9474 - val_loss: 0.1165 - val_accuracy: 0.9489\n",
      "Epoch 8/10\n",
      "110/110 [==============================] - 7s 59ms/step - loss: 0.1023 - accuracy: 0.9585 - val_loss: 0.0998 - val_accuracy: 0.9557\n",
      "Epoch 9/10\n",
      "110/110 [==============================] - 7s 60ms/step - loss: 0.0954 - accuracy: 0.9577 - val_loss: 0.1139 - val_accuracy: 0.9444\n",
      "Epoch 10/10\n",
      "110/110 [==============================] - 7s 60ms/step - loss: 0.0657 - accuracy: 0.9733 - val_loss: 0.1299 - val_accuracy: 0.9444\n",
      "28/28 [==============================] - 0s 12ms/step\n",
      "Accuracy: 0.94\n",
      "\n",
      "Classification Report:\n",
      "              precision    recall  f1-score   support\n",
      "\n",
      "           0       0.93      0.99      0.96       534\n",
      "           1       0.98      0.88      0.93       347\n",
      "\n",
      "    accuracy                           0.94       881\n",
      "   macro avg       0.95      0.93      0.94       881\n",
      "weighted avg       0.95      0.94      0.94       881\n",
      "\n"
     ]
    }
   ],
   "source": [
    "# Compile the model\n",
    "model.compile(optimizer='adam', loss='sparse_categorical_crossentropy', metrics=['accuracy'])\n",
    "\n",
    "# Train the model\n",
    "model.fit(X_train, y_train, epochs=10, validation_data=(X_test, y_test))\n",
    "\n",
    "# Evaluate the model\n",
    "y_pred = np.argmax(model.predict(X_test), axis=1)\n",
    "\n",
    "# Calculate accuracy and display classification report\n",
    "accuracy = accuracy_score(y_test, y_pred)\n",
    "print(f'Accuracy: {accuracy:.2f}')\n",
    "\n",
    "print('\\nClassification Report:')\n",
    "print(classification_report(y_test, y_pred))# Compile the model\n",
    "model.compile(optimizer='adam', loss='sparse_categorical_crossentropy', metrics=['accuracy'])"
   ]
  },
  {
   "cell_type": "code",
   "execution_count": 32,
   "id": "1001dc3b-716c-4958-83c2-ba1259a436b9",
   "metadata": {},
   "outputs": [
    {
     "data": {
      "image/png": "[encoded data removed]",
      "text/plain": [
       "<Figure size 800x600 with 1 Axes>"
      ]
     },
     "metadata": {},
     "output_type": "display_data"
    }
   ],
   "source": [
    "# Confusion matrix\n",
    "conf_matrix = confusion_matrix(y_test, y_pred)\n",
    "plt.figure(figsize=(8, 6))\n",
    "sns.heatmap(conf_matrix, annot=True, fmt='g', cmap='Blues', cbar=False)\n",
    "plt.xlabel('Predicted labels')\n",
    "plt.ylabel('True labels')\n",
    "plt.title('Confusion Matrix')\n",
    "plt.show()"
   ]
  },
  {
   "cell_type": "code",
   "execution_count": 33,
   "id": "e3c92730-e1a7-4247-976b-0b840bbb659d",
   "metadata": {},
   "outputs": [],
   "source": [
    "# Manually test the model\n",
    "def manual_test(image_path):\n",
    "    img = tf.keras.preprocessing.image.load_img(image_path, target_size=(64, 64))\n",
    "    img_array = tf.keras.preprocessing.image.img_to_array(img)\n",
    "    img_array = img_array / 255.0  # Normalize pixel values\n",
    "    img_array = np.expand_dims(img_array, axis=0)  # Add batch dimension\n",
    "    prediction = model.predict(img_array)\n",
    "    predicted_class = np.argmax(prediction)\n",
    "    return predicted_class, img_array[0] "
   ]
  },
  {
   "cell_type": "code",
   "execution_count": 34,
   "id": "3a4f4722-60b1-43e0-9b7a-5f4edf2bbf37",
   "metadata": {},
   "outputs": [
    {
     "name": "stdout",
     "output_type": "stream",
     "text": [
      "1/1 [==============================] - 0s 82ms/step\n"
     ]
    },
    {
     "data": {
      "image/png": "[encoded data removed]",
      "text/plain": [
       "<Figure size 640x480 with 1 Axes>"
      ]
     },
     "metadata": {},
     "output_type": "display_data"
    }
   ],
   "source": [
    "# Example usage of manual_test function\n",
    "image_path = 'example_equipment3.jpeg'\n",
    "predicted_class, example_image = manual_test(image_path)\n",
    "\n",
    "# Display the example image\n",
    "plt.imshow(example_image)\n",
    "plt.title(f'Predicted class: {predicted_class}')\n",
    "plt.axis('off')\n",
    "plt.show()"
   ]
  },
  {
   "cell_type": "code",
   "execution_count": 35,
   "id": "8d21fe22-64bf-421e-b6d9-f1f14ec0f343",
   "metadata": {},
   "outputs": [
    {
     "name": "stdout",
     "output_type": "stream",
     "text": [
      "1/1 [==============================] - 0s 27ms/step\n"
     ]
    },
    {
     "data": {
      "image/png": "[encoded data removed]",
      "text/plain": [
       "<Figure size 640x480 with 1 Axes>"
      ]
     },
     "metadata": {},
     "output_type": "display_data"
    }
   ],
   "source": [
    "# Example usage of manual_test function\n",
    "image_path = 'example_equipment.jpeg'\n",
    "predicted_class, example_image = manual_test(image_path)\n",
    "\n",
    "# Display the example image\n",
    "plt.imshow(example_image)\n",
    "plt.title(f'Predicted class: {predicted_class}')\n",
    "plt.axis('off')\n",
    "plt.show()"
   ]
  }
 ],
 "metadata": {
  "kernelspec": {
   "display_name": "Python 3 (ipykernel)",
   "language": "python",
   "name": "python3"
  },
  "language_info": {
   "codemirror_mode": {
    "name": "ipython",
    "version": 3
   },
   "file_extension": ".py",
   "mimetype": "text/x-python",
   "name": "python",
   "nbconvert_exporter": "python",
   "pygments_lexer": "ipython3",
   "version": "3.10.12"
  }
 },
 "nbformat": 4,
 "nbformat_minor": 5
}
